{
 "cells": [
  {
   "cell_type": "code",
   "execution_count": 1,
   "id": "8fdb636d",
   "metadata": {},
   "outputs": [],
   "source": [
    "# In[1]: Imports and Environment Setup\n",
    "import pandas as pd\n",
    "import numpy as np\n",
    "import re\n",
    "from sklearn.model_selection import train_test_split, StratifiedKFold, RandomizedSearchCV\n",
    "from sklearn.utils import resample\n",
    "from sklearn.metrics import classification_report, confusion_matrix, roc_auc_score, roc_curve\n",
    "import matplotlib.pyplot as plt\n",
    "\n",
    "# Try XGBoost, fall back to scikit-learn GBM\n",
    "try:\n",
    "    from xgboost import XGBClassifier\n",
    "    GBM = XGBClassifier(use_label_encoder=False, eval_metric='logloss', random_state=42)\n",
    "    param_dist = {\n",
    "        'learning_rate': [0.01, 0.1, 0.2],\n",
    "        'n_estimators': [50, 100, 200],\n",
    "        'gamma': [0, 0.1, 0.5]\n",
    "    }\n",
    "except ImportError:\n",
    "    from sklearn.ensemble import GradientBoostingClassifier\n",
    "    GBM = GradientBoostingClassifier(random_state=42)\n",
    "    param_dist = {\n",
    "        'learning_rate': [0.01, 0.1, 0.2],\n",
    "        'n_estimators': [50, 100, 200],\n",
    "        'max_depth': [3, 5, 7]\n",
    "    }\n"
   ]
  },
  {
   "cell_type": "code",
   "execution_count": 5,
   "id": "18c735b4",
   "metadata": {},
   "outputs": [],
   "source": [
    "# In[2]: Load & Sanitize Data for One Region\n",
    "file_path = r\"C:\\Users\\paulw\\Documents\\NeuroSignalProject\\Patient1_Hippo_6.csv\"\n",
    "df = pd.read_csv(file_path)\n",
    "\n",
    "# Sanitize all column names: remove brackets, spaces, etc.\n",
    "df.columns = [re.sub(r'[^0-9A-Za-z_]', '_', col) for col in df.columns]\n"
   ]
  },
  {
   "cell_type": "code",
   "execution_count": null,
   "id": "77293059",
   "metadata": {},
   "outputs": [],
   "source": []
  },
  {
   "cell_type": "code",
   "execution_count": null,
   "id": "e5fc17de",
   "metadata": {},
   "outputs": [],
   "source": []
  },
  {
   "cell_type": "code",
   "execution_count": null,
   "id": "620e4eee",
   "metadata": {},
   "outputs": [],
   "source": [
    "import ast\n",
    "import numpy as np\n",
    "\n",
    "def to_floats(cell):\n",
    "    if isinstance(cell, str):\n",
    "        cell = ast.literal_eval(cell)\n",
    "    return [float(v) for v in cell]\n",
    "\n",
    "fr_cols = [c for c in df.columns if c.startswith('FR_neuron')]\n",
    "\n",
    "# Convert each column’s lists to float‐lists in place\n",
    "for col in fr_cols:\n",
    "    df[col] = df[col].apply(to_floats)\n",
    "\n",
    "# Now compute the per‐trial mean for each neuron\n",
    "for col in fr_cols:\n",
    "    df[col + '_mean'] = df[col].apply(lambda rates: np.mean(rates) if rates else 0.0)"
   ]
  },
  {
   "cell_type": "code",
   "execution_count": 13,
   "id": "83951950",
   "metadata": {},
   "outputs": [],
   "source": [
    "y=df['acc_bin']\n",
    "X=df.drop(['trial_id', 'Accuracy', 'acc_bin'], axis=1)"
   ]
  },
  {
   "cell_type": "code",
   "execution_count": null,
   "id": "101e8fde",
   "metadata": {},
   "outputs": [],
   "source": []
  },
  {
   "cell_type": "code",
   "execution_count": 8,
   "id": "88530129",
   "metadata": {},
   "outputs": [],
   "source": [
    "mean_cols = [c for c in df.columns if c.endswith('_mean')]\n",
    "X = df[mean_cols].copy()"
   ]
  },
  {
   "cell_type": "code",
   "execution_count": 28,
   "id": "3310380a",
   "metadata": {},
   "outputs": [],
   "source": [
    "# In[5]: Stratified Train/Test Split (80/20)\n",
    "X_train, X_test, y_train, y_test = train_test_split(\n",
    "    X, y, test_size=0.2, stratify=y, random_state=42\n",
    ")"
   ]
  },
  {
   "cell_type": "code",
   "execution_count": null,
   "id": "7f8f1562",
   "metadata": {},
   "outputs": [],
   "source": []
  },
  {
   "cell_type": "code",
   "execution_count": 29,
   "id": "84a195b8",
   "metadata": {},
   "outputs": [],
   "source": [
    "# In[6]: Upsample Minority Class in Training Set\n",
    "train_df = pd.concat([X_train, y_train.rename('label')], axis=1)\n",
    "maj = train_df[train_df['label']==train_df['label'].mode()[0]]\n",
    "minr = train_df[train_df['label']!=train_df['label'].mode()[0]]\n",
    "minr_up = resample(minr, replace=True, n_samples=len(maj), random_state=42)\n",
    "train_bal = pd.concat([maj, minr_up])\n",
    "X_train_bal = train_bal.drop('label', axis=1)\n",
    "y_train_bal = train_bal['label']\n"
   ]
  },
  {
   "cell_type": "code",
   "execution_count": 24,
   "id": "a6f3f48a",
   "metadata": {},
   "outputs": [],
   "source": []
  },
  {
   "cell_type": "code",
   "execution_count": 26,
   "id": "9c26119e",
   "metadata": {},
   "outputs": [],
   "source": []
  },
  {
   "cell_type": "code",
   "execution_count": 30,
   "id": "ca372c8c",
   "metadata": {},
   "outputs": [],
   "source": [
    "# In[7]: Hyperparameter Tuning with RandomizedSearchCV\n",
    "cv = StratifiedKFold(n_splits=5, shuffle=True, random_state=42)\n",
    "search = RandomizedSearchCV(\n",
    "    GBM, param_distributions=param_dist, n_iter=20,\n",
    "    scoring='roc_auc', cv=cv, n_jobs=-1, random_state=42\n",
    ")\n",
    "search.fit(X_train_bal, y_train_bal)\n",
    "best_model = search.best_estimator_\n"
   ]
  },
  {
   "cell_type": "code",
   "execution_count": null,
   "id": "82def676",
   "metadata": {},
   "outputs": [],
   "source": []
  },
  {
   "cell_type": "code",
   "execution_count": 31,
   "id": "0e8e5f99",
   "metadata": {},
   "outputs": [
    {
     "name": "stdout",
     "output_type": "stream",
     "text": [
      "Best params: {'n_estimators': 50, 'max_depth': 3, 'learning_rate': 0.1}\n",
      "Test ROC AUC: 0.3333333333333333 \n",
      "\n",
      "              precision    recall  f1-score   support\n",
      "\n",
      "           0       0.33      0.25      0.29         4\n",
      "           1       0.57      0.67      0.62         6\n",
      "\n",
      "    accuracy                           0.50        10\n",
      "   macro avg       0.45      0.46      0.45        10\n",
      "weighted avg       0.48      0.50      0.48        10\n",
      "\n",
      "Confusion Matrix:\n",
      "           Pred_0  Pred_1\n",
      "Actual_0       1       3\n",
      "Actual_1       2       4\n"
     ]
    }
   ],
   "source": [
    "# In[8]: Evaluation on Test Set\n",
    "y_pred  = best_model.predict(X_test)\n",
    "y_proba = best_model.predict_proba(X_test)[:,1]\n",
    "\n",
    "print(\"Best params:\", search.best_params_)\n",
    "print(\"Test ROC AUC:\", roc_auc_score(y_test, y_proba), \"\\n\")\n",
    "print(classification_report(y_test, y_pred))\n",
    "\n",
    "cm = confusion_matrix(y_test, y_pred)\n",
    "cm_df = pd.DataFrame(cm, index=['Actual_0','Actual_1'], columns=['Pred_0','Pred_1'])\n",
    "print(\"Confusion Matrix:\\n\", cm_df)\n"
   ]
  },
  {
   "cell_type": "code",
   "execution_count": 32,
   "id": "f96f9828",
   "metadata": {},
   "outputs": [
    {
     "data": {
      "image/png": "[encoded data removed]",
      "text/plain": [
       "<Figure size 600x400 with 1 Axes>"
      ]
     },
     "metadata": {},
     "output_type": "display_data"
    }
   ],
   "source": [
    "\n",
    "# In[9]: ROC Curve Plot\n",
    "fpr, tpr, _ = roc_curve(y_test, y_proba)\n",
    "plt.figure(figsize=(6,4))\n",
    "plt.plot(fpr, tpr, label=f'AUC = {roc_auc_score(y_test, y_proba):.2f}')\n",
    "plt.plot([0,1],[0,1],linestyle='--')\n",
    "plt.xlabel('False Positive Rate')\n",
    "plt.ylabel('True Positive Rate')\n",
    "plt.title('ROC Curve')\n",
    "plt.legend()\n",
    "plt.show()\n"
   ]
  },
  {
   "cell_type": "code",
   "execution_count": null,
   "id": "8063f4d2",
   "metadata": {},
   "outputs": [],
   "source": []
  }
 ],
 "metadata": {
  "kernelspec": {
   "display_name": "Python 3 (ipykernel)",
   "language": "python",
   "name": "python3"
  },
  "language_info": {
   "codemirror_mode": {
    "name": "ipython",
    "version": 3
   },
   "file_extension": ".py",
   "mimetype": "text/x-python",
   "name": "python",
   "nbconvert_exporter": "python",
   "pygments_lexer": "ipython3",
   "version": "3.11.5"
  }
 },
 "nbformat": 4,
 "nbformat_minor": 5
}
