{
 "cells": [
  {
   "cell_type": "code",
   "execution_count": 533,
   "id": "219bf2f6",
   "metadata": {},
   "outputs": [],
   "source": [
    "# ─── Chunk 1: Imports and File Paths ───────────────────────────────────────────\n",
    "import pandas as pd\n",
    "import ast\n",
    "from sklearn.model_selection import train_test_split\n",
    "from sklearn.ensemble import GradientBoostingClassifier\n",
    "from sklearn.metrics import accuracy_score, confusion_matrix, classification_report\n",
    "import matplotlib.pyplot as plt\n",
    "\n",
    "# Adjust these paths if your CSVs live elsewhere\n",
    "\n",
    "path_ph4 = \"Patient1_Hippo_4p.csv\"\n"
   ]
  },
  {
   "cell_type": "code",
   "execution_count": 534,
   "id": "64145e58",
   "metadata": {},
   "outputs": [],
   "source": [
    "# ─── Chunk 2: Load CSVs and Assign Labels ──────────────────────────────────────\n",
    "# Read each file into a DataFrame\n",
    "df4 = pd.read_csv(path_ph4)\n",
    "#df6 = pd.read_csv(path_ph6)\n",
    "\n",
    "# Create a “label” column: 4 for PH_4 trials, 6 for PH_6\n",
    "#df4['label'] = 4\n",
    "#df6['label'] = 6\n",
    "\n",
    "# Concatenate into one DataFrame for modeling\n",
    "df=df4\n",
    "#df = pd.concat([df4, df6], ignore_index=True)\n",
    "#print(f\"Total trials loaded: {len(df)}\")\n"
   ]
  },
  {
   "cell_type": "code",
   "execution_count": 535,
   "id": "12ee34f1",
   "metadata": {},
   "outputs": [
    {
     "name": "stdout",
     "output_type": "stream",
     "text": [
      "FR_neuron2[AHL2]                    [0.0]\n",
      "FR_neuron3[AHL2]     [1.6177966257076513]\n",
      "FR_neuron4[AHL2]     [0.2696327709512752]\n",
      "FR_neuron5[AHL2]                    [0.0]\n",
      "FR_neuron6[AHL2]     [1.0785310838051008]\n",
      "FR_neuron7[AHL2]     [0.2696327709512752]\n",
      "FR_neuron8[AHL2]     [0.2696327709512752]\n",
      "FR_neuron9[AHL2]     [0.8088983128538256]\n",
      "FR_neuron10[AHL5]    [1.6177966257076513]\n",
      "FR_neuron11[AHL5]                   [0.0]\n",
      "FR_neuron12[AHL5]    [0.2696327709512752]\n",
      "FR_neuron13[AHL5]    [0.8088983128538256]\n",
      "FR_neuron14[AHL7]    [1.0785310838051008]\n",
      "FR_neuron15[AHL7]                   [0.0]\n",
      "FR_neuron16[AHL7]                   [0.0]\n",
      "FR_neuron17[AHL8]                   [0.0]\n",
      "FR_neuron18[AHL8]    [1.8874293966589264]\n",
      "FR_neuron19[AHL8]                   [0.0]\n",
      "FR_neuron20[AHL8]    [0.5392655419025504]\n",
      "FR_neuron21[AHR2]    [0.5392655419025504]\n",
      "FR_neuron22[AHR6]                   [0.0]\n",
      "Name: 0, dtype: object\n"
     ]
    }
   ],
   "source": [
    "# ─── Chunk 3: Parse Firing‐Rate Lists ───────────────────────────────────────────\n",
    "# Identify all columns beginning with 'FR_neuron'\n",
    "fr_cols = [c for c in df.columns if c.startswith('FR_neuron')]\n",
    "\n",
    "# Each of these columns currently holds a string like \"[12.5, 20.0, …]\"\n",
    "# Convert each string into an actual Python list\n",
    "for col in fr_cols:\n",
    "    df[col] = df[col].apply(ast.literal_eval)\n",
    "\n",
    "# Quick sanity check\n",
    "print(df[fr_cols].iloc[0])\n"
   ]
  },
  {
   "cell_type": "code",
   "execution_count": null,
   "id": "b2452f74",
   "metadata": {},
   "outputs": [],
   "source": []
  },
  {
   "cell_type": "code",
   "execution_count": null,
   "id": "c257235f",
   "metadata": {},
   "outputs": [],
   "source": []
  },
  {
   "cell_type": "code",
   "execution_count": 536,
   "id": "9b90e93b",
   "metadata": {
    "scrolled": true
   },
   "outputs": [
    {
     "name": "stdout",
     "output_type": "stream",
     "text": [
      "Feature matrix shape: (47, 21)\n"
     ]
    }
   ],
   "source": [
    "# ─── Chunk 4: Expand Each Bin into Its Own Feature ────────────────────────────\n",
    "expanded_dfs = []\n",
    "for col in fr_cols:\n",
    "    # Determine how many bins (should be 12)\n",
    "    n_bins = len(df[col].iloc[0])\n",
    "    # Generate column names: e.g. FR_neuron32_bin0 … FR_neuron32_bin11\n",
    "    bin_names = [f\"{col}_bin{i}\" for i in range(n_bins)]\n",
    "    # Expand the list‐of‐bins into a DataFrame\n",
    "    bins_df = pd.DataFrame(df[col].tolist(), columns=bin_names)\n",
    "    expanded_dfs.append(bins_df)\n",
    "\n",
    "# Concatenate all neurons’ bins side by side\n",
    "X = pd.concat(expanded_dfs, axis=1)\n",
    "y = df['acc_bin']\n",
    "\n",
    "print(\"Feature matrix shape:\", X.shape)"
   ]
  },
  {
   "cell_type": "code",
   "execution_count": null,
   "id": "064792f6",
   "metadata": {},
   "outputs": [],
   "source": []
  },
  {
   "cell_type": "code",
   "execution_count": null,
   "id": "378cb17f",
   "metadata": {},
   "outputs": [],
   "source": []
  },
  {
   "cell_type": "code",
   "execution_count": null,
   "id": "1771c015",
   "metadata": {},
   "outputs": [],
   "source": []
  },
  {
   "cell_type": "code",
   "execution_count": 537,
   "id": "4ac37883",
   "metadata": {},
   "outputs": [],
   "source": [
    "from sklearn.utils import resample"
   ]
  },
  {
   "cell_type": "code",
   "execution_count": null,
   "id": "0cd027a7",
   "metadata": {},
   "outputs": [],
   "source": []
  },
  {
   "cell_type": "code",
   "execution_count": null,
   "id": "a15e00d9",
   "metadata": {},
   "outputs": [],
   "source": []
  },
  {
   "cell_type": "code",
   "execution_count": 538,
   "id": "1931949d",
   "metadata": {
    "scrolled": true
   },
   "outputs": [
    {
     "name": "stdout",
     "output_type": "stream",
     "text": [
      "Training samples: 35\n",
      "Test samples:     12\n"
     ]
    }
   ],
   "source": [
    "# ─── Chunk 5: Train/Test Split ─────────────────────────────────────────────────\n",
    "# Use an 80/20 stratified split to preserve label proportions\n",
    "X_train, X_test, y_train, y_test = train_test_split(\n",
    "    X, y,\n",
    "    test_size=0.25,\n",
    "    random_state=1,\n",
    "    stratify=y\n",
    ")\n",
    "\n",
    "print(\"Training samples:\", X_train.shape[0])\n",
    "print(\"Test samples:    \", X_test.shape[0])\n"
   ]
  },
  {
   "cell_type": "code",
   "execution_count": 539,
   "id": "c42973ba",
   "metadata": {},
   "outputs": [],
   "source": [
    "X_resampled, y_resampled = resample(\n",
    "    X_train, y_train,\n",
    "    replace=True,      # sample with replacement\n",
    "    n_samples=500,     # how many total samples you want\n",
    "    random_state=0\n",
    ")"
   ]
  },
  {
   "cell_type": "code",
   "execution_count": 540,
   "id": "f78658fd",
   "metadata": {
    "scrolled": true
   },
   "outputs": [],
   "source": [
    "# ─── Chunk 6: Fit Gradient Boosting Model ──────────────────────────────────────\n",
    "# In[1]: Imports and Environment Setup\n",
    "import pandas as pd\n",
    "import numpy as np\n",
    "import re\n",
    "from sklearn.model_selection import train_test_split, StratifiedKFold, RandomizedSearchCV\n",
    "from sklearn.utils import resample\n",
    "from sklearn.metrics import classification_report, confusion_matrix, roc_auc_score, roc_curve\n",
    "import matplotlib.pyplot as plt\n",
    "\n",
    "# Try XGBoost, fall back to scikit-learn GBM\n",
    "try:\n",
    "    from xgboost import XGBClassifier\n",
    "    GBM = XGBClassifier(use_label_encoder=False, eval_metric='logloss', random_state=42)\n",
    "    param_dist = {\n",
    "        'learning_rate': [0.005, 0.01, 0.1, 0.2],\n",
    "        'n_estimators': [50, 100, 200],\n",
    "        'gamma': [0, 0.1, 0.2, 0.5]\n",
    "    }\n",
    "except ImportError:\n",
    "    from sklearn.ensemble import GradientBoostingClassifier\n",
    "    GBM = GradientBoostingClassifier(random_state=42)\n",
    "    param_dist = {\n",
    "        'learning_rate': [0.01, 0.1, 0.2],\n",
    "        'n_estimators': [50, 100, 200],\n",
    "        'max_depth': [1, 3, 5]\n",
    "    }"
   ]
  },
  {
   "cell_type": "code",
   "execution_count": 545,
   "id": "300fb273",
   "metadata": {},
   "outputs": [
    {
     "data": {
      "text/html": [
       "<style>#sk-container-id-2 {color: black;}#sk-container-id-2 pre{padding: 0;}#sk-container-id-2 div.sk-toggleable {background-color: white;}#sk-container-id-2 label.sk-toggleable__label {cursor: pointer;display: block;width: 100%;margin-bottom: 0;padding: 0.3em;box-sizing: border-box;text-align: center;}#sk-container-id-2 label.sk-toggleable__label-arrow:before {content: \"▸\";float: left;margin-right: 0.25em;color: #696969;}#sk-container-id-2 label.sk-toggleable__label-arrow:hover:before {color: black;}#sk-container-id-2 div.sk-estimator:hover label.sk-toggleable__label-arrow:before {color: black;}#sk-container-id-2 div.sk-toggleable__content {max-height: 0;max-width: 0;overflow: hidden;text-align: left;background-color: #f0f8ff;}#sk-container-id-2 div.sk-toggleable__content pre {margin: 0.2em;color: black;border-radius: 0.25em;background-color: #f0f8ff;}#sk-container-id-2 input.sk-toggleable__control:checked~div.sk-toggleable__content {max-height: 200px;max-width: 100%;overflow: auto;}#sk-container-id-2 input.sk-toggleable__control:checked~label.sk-toggleable__label-arrow:before {content: \"▾\";}#sk-container-id-2 div.sk-estimator input.sk-toggleable__control:checked~label.sk-toggleable__label {background-color: #d4ebff;}#sk-container-id-2 div.sk-label input.sk-toggleable__control:checked~label.sk-toggleable__label {background-color: #d4ebff;}#sk-container-id-2 input.sk-hidden--visually {border: 0;clip: rect(1px 1px 1px 1px);clip: rect(1px, 1px, 1px, 1px);height: 1px;margin: -1px;overflow: hidden;padding: 0;position: absolute;width: 1px;}#sk-container-id-2 div.sk-estimator {font-family: monospace;background-color: #f0f8ff;border: 1px dotted black;border-radius: 0.25em;box-sizing: border-box;margin-bottom: 0.5em;}#sk-container-id-2 div.sk-estimator:hover {background-color: #d4ebff;}#sk-container-id-2 div.sk-parallel-item::after {content: \"\";width: 100%;border-bottom: 1px solid gray;flex-grow: 1;}#sk-container-id-2 div.sk-label:hover label.sk-toggleable__label {background-color: #d4ebff;}#sk-container-id-2 div.sk-serial::before {content: \"\";position: absolute;border-left: 1px solid gray;box-sizing: border-box;top: 0;bottom: 0;left: 50%;z-index: 0;}#sk-container-id-2 div.sk-serial {display: flex;flex-direction: column;align-items: center;background-color: white;padding-right: 0.2em;padding-left: 0.2em;position: relative;}#sk-container-id-2 div.sk-item {position: relative;z-index: 1;}#sk-container-id-2 div.sk-parallel {display: flex;align-items: stretch;justify-content: center;background-color: white;position: relative;}#sk-container-id-2 div.sk-item::before, #sk-container-id-2 div.sk-parallel-item::before {content: \"\";position: absolute;border-left: 1px solid gray;box-sizing: border-box;top: 0;bottom: 0;left: 50%;z-index: -1;}#sk-container-id-2 div.sk-parallel-item {display: flex;flex-direction: column;z-index: 1;position: relative;background-color: white;}#sk-container-id-2 div.sk-parallel-item:first-child::after {align-self: flex-end;width: 50%;}#sk-container-id-2 div.sk-parallel-item:last-child::after {align-self: flex-start;width: 50%;}#sk-container-id-2 div.sk-parallel-item:only-child::after {width: 0;}#sk-container-id-2 div.sk-dashed-wrapped {border: 1px dashed gray;margin: 0 0.4em 0.5em 0.4em;box-sizing: border-box;padding-bottom: 0.4em;background-color: white;}#sk-container-id-2 div.sk-label label {font-family: monospace;font-weight: bold;display: inline-block;line-height: 1.2em;}#sk-container-id-2 div.sk-label-container {text-align: center;}#sk-container-id-2 div.sk-container {/* jupyter's `normalize.less` sets `[hidden] { display: none; }` but bootstrap.min.css set `[hidden] { display: none !important; }` so we also need the `!important` here to be able to override the default hidden behavior on the sphinx rendered scikit-learn.org. See: https://github.com/scikit-learn/scikit-learn/issues/21755 */display: inline-block !important;position: relative;}#sk-container-id-2 div.sk-text-repr-fallback {display: none;}</style><div id=\"sk-container-id-2\" class=\"sk-top-container\"><div class=\"sk-text-repr-fallback\"><pre>GradientBoostingClassifier(learning_rate=0.01, max_depth=5, n_estimators=200,\n",
       "                           random_state=42)</pre><b>In a Jupyter environment, please rerun this cell to show the HTML representation or trust the notebook. <br />On GitHub, the HTML representation is unable to render, please try loading this page with nbviewer.org.</b></div><div class=\"sk-container\" hidden><div class=\"sk-item\"><div class=\"sk-estimator sk-toggleable\"><input class=\"sk-toggleable__control sk-hidden--visually\" id=\"sk-estimator-id-2\" type=\"checkbox\" checked><label for=\"sk-estimator-id-2\" class=\"sk-toggleable__label sk-toggleable__label-arrow\">GradientBoostingClassifier</label><div class=\"sk-toggleable__content\"><pre>GradientBoostingClassifier(learning_rate=0.01, max_depth=5, n_estimators=200,\n",
       "                           random_state=42)</pre></div></div></div></div></div>"
      ],
      "text/plain": [
       "GradientBoostingClassifier(learning_rate=0.01, max_depth=5, n_estimators=200,\n",
       "                           random_state=42)"
      ]
     },
     "execution_count": 545,
     "metadata": {},
     "output_type": "execute_result"
    }
   ],
   "source": [
    "# In[7]: Hyperparameter Tuning with RandomizedSearchCV\n",
    "cv = StratifiedKFold(n_splits=10, shuffle=True, random_state=42)\n",
    "search = RandomizedSearchCV(\n",
    "    GBM, param_distributions=param_dist, n_iter=20,\n",
    "    scoring='roc_auc', cv=cv, n_jobs=-1, random_state=42\n",
    ")\n",
    "search.fit(X_resampled, y_resampled)\n",
    "best_model = search.best_estimator_\n",
    "best_model"
   ]
  },
  {
   "cell_type": "code",
   "execution_count": 542,
   "id": "3cee8f5e",
   "metadata": {
    "scrolled": true
   },
   "outputs": [
    {
     "name": "stdout",
     "output_type": "stream",
     "text": [
      "Test Accuracy: 0.6666666666666666\n",
      "\n",
      "Confusion Matrix:\n",
      "[[0 3]\n",
      " [1 8]]\n",
      "\n",
      "Classification Report:\n",
      "              precision    recall  f1-score   support\n",
      "\n",
      "           0       0.00      0.00      0.00         3\n",
      "           1       0.73      0.89      0.80         9\n",
      "\n",
      "    accuracy                           0.67        12\n",
      "   macro avg       0.36      0.44      0.40        12\n",
      "weighted avg       0.55      0.67      0.60        12\n",
      "\n"
     ]
    }
   ],
   "source": [
    "# ─── Chunk 7: Evaluate on Test Set ─────────────────────────────────────────────\n",
    "y_pred = best_model.predict(X_test)\n",
    "\n",
    "print(\"Test Accuracy:\", accuracy_score(y_test, y_pred))\n",
    "print(\"\\nConfusion Matrix:\")\n",
    "print(confusion_matrix(y_test, y_pred))\n",
    "print(\"\\nClassification Report:\")\n",
    "print(classification_report(y_test, y_pred))\n"
   ]
  },
  {
   "cell_type": "code",
   "execution_count": 543,
   "id": "1c7c92ac",
   "metadata": {},
   "outputs": [
    {
     "data": {
      "image/png": "[encoded data removed]",
      "text/plain": [
       "<Figure size 400x400 with 1 Axes>"
      ]
     },
     "metadata": {},
     "output_type": "display_data"
    }
   ],
   "source": [
    "from sklearn.metrics import confusion_matrix, ConfusionMatrixDisplay\n",
    "import matplotlib.pyplot as plt\n",
    "\n",
    "# y_test, y_pred are your true/predicted labels\n",
    "cm = confusion_matrix(y_test, y_pred)\n",
    "\n",
    "disp = ConfusionMatrixDisplay(confusion_matrix=cm)\n",
    "fig, ax = plt.subplots(figsize=(4,4))\n",
    "disp.plot(ax=ax, cmap='Blues', colorbar=False)\n",
    "plt.title(\"Confusion Matrix Trial=6, Brain= ECL, Retention\")\n",
    "plt.show()"
   ]
  },
  {
   "cell_type": "code",
   "execution_count": 544,
   "id": "de9b433a",
   "metadata": {},
   "outputs": [
    {
     "data": {
      "image/png": "[encoded data removed]",
      "text/plain": [
       "<Figure size 1000x400 with 1 Axes>"
      ]
     },
     "metadata": {},
     "output_type": "display_data"
    }
   ],
   "source": [
    "# ─── Chunk 8: Visualize Feature Importances ────────────────────────────────────\n",
    "importances = best_model.feature_importances_\n",
    "\n",
    "plt.figure(figsize=(10, 4))\n",
    "plt.bar(range(len(importances)), importances)\n",
    "plt.xlabel(\"Feature index (neuron_bin)\")\n",
    "plt.ylabel(\"Importance\")\n",
    "plt.title(\"Gradient Boosting Feature Importances of each Neuron Trial =4, Hippocampus, Probe\")\n",
    "plt.tight_layout()\n",
    "plt.show()\n"
   ]
  },
  {
   "cell_type": "code",
   "execution_count": null,
   "id": "347f965c",
   "metadata": {},
   "outputs": [],
   "source": []
  }
 ],
 "metadata": {
  "kernelspec": {
   "display_name": "Python 3 (ipykernel)",
   "language": "python",
   "name": "python3"
  },
  "language_info": {
   "codemirror_mode": {
    "name": "ipython",
    "version": 3
   },
   "file_extension": ".py",
   "mimetype": "text/x-python",
   "name": "python",
   "nbconvert_exporter": "python",
   "pygments_lexer": "ipython3",
   "version": "3.11.5"
  }
 },
 "nbformat": 4,
 "nbformat_minor": 5
}
