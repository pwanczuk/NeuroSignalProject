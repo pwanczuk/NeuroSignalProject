{
 "cells": [
  {
   "cell_type": "markdown",
   "id": "c4319eed",
   "metadata": {},
   "source": [
    "# Model Generation and Assessment "
   ]
  },
  {
   "cell_type": "markdown",
   "id": "c708a5ac",
   "metadata": {},
   "source": [
    "## Chunk 1: Imports and Load File Paths "
   ]
  },
  {
   "cell_type": "code",
   "execution_count": 279,
   "id": "5c384b56",
   "metadata": {},
   "outputs": [],
   "source": [
    "import pandas as pd\n",
    "import ast\n",
    "from sklearn.model_selection import train_test_split\n",
    "from sklearn.ensemble import GradientBoostingClassifier\n",
    "from sklearn.metrics import accuracy_score, confusion_matrix, classification_report\n",
    "import matplotlib.pyplot as plt\n",
    "\n",
    "# _________Change the path_ph4 file name/path for the desired dataset to work with______\n",
    "#There are 24 .csv files available for the patient\n",
    "#Labeling consists of Patient_ + Hippo, Amyg, ECL, PH_ + 4, 6_ + p, m, r\n",
    "#\"f\" files are not appropriate for use in this model because it is a calibration phase in the study\n",
    "path_ph4 = \"Patient1_PH_6p.csv\"\n",
    "df4 = pd.read_csv(path_ph4)\n",
    "df=df4"
   ]
  },
  {
   "cell_type": "markdown",
   "id": "20a89f3a",
   "metadata": {},
   "source": [
    "# Chunk 2: Extract Neurons & Visualize Firing Rates"
   ]
  },
  {
   "cell_type": "code",
   "execution_count": 280,
   "id": "12ee34f1",
   "metadata": {
    "scrolled": true
   },
   "outputs": [
    {
     "name": "stdout",
     "output_type": "stream",
     "text": [
      "FR_neuron32[PHR5]      [8.795265009654601]\n",
      "FR_neuron33[PHR5]     [0.9508394605032001]\n",
      "FR_neuron34[PHR5]    [0.23770986512580003]\n",
      "Name: 0, dtype: object\n"
     ]
    }
   ],
   "source": [
    "# Identify all columns beginning with 'FR_neuron'\n",
    "fr_cols = [c for c in df.columns if c.startswith('FR_neuron')]\n",
    "for col in fr_cols:\n",
    "    df[col] = df[col].apply(ast.literal_eval)\n",
    "\n",
    "# Quick sanity check\n",
    "print(df[fr_cols].iloc[0])\n"
   ]
  },
  {
   "cell_type": "markdown",
   "id": "ebd76956",
   "metadata": {},
   "source": [
    "# Chunk 3: Structure the Data into X & Corresponding Y labels"
   ]
  },
  {
   "cell_type": "code",
   "execution_count": 281,
   "id": "9b90e93b",
   "metadata": {
    "scrolled": true
   },
   "outputs": [
    {
     "name": "stdout",
     "output_type": "stream",
     "text": [
      "Feature matrix shape: (48, 3)\n"
     ]
    }
   ],
   "source": [
    "expanded_dfs = []\n",
    "for col in fr_cols:\n",
    "    n_bins = len(df[col].iloc[0])\n",
    "    bin_names = [f\"{col}_bin{i}\" for i in range(n_bins)]\n",
    "    bins_df = pd.DataFrame(df[col].tolist(), columns=bin_names)\n",
    "    expanded_dfs.append(bins_df)\n",
    "\n",
    "# Concatenate all neurons and extract binary y-labels\n",
    "X = pd.concat(expanded_dfs, axis=1)\n",
    "y = df['acc_bin']\n",
    "#Define the dimensions #Trials X #Features(Neurons) Ex. Feature Matrix for Patient1_Hippo_4p should be 47x21\n",
    "print(\"Feature matrix shape:\", X.shape)"
   ]
  },
  {
   "cell_type": "markdown",
   "id": "458fba1f",
   "metadata": {},
   "source": [
    "# Chunk 4: Train/Test Split"
   ]
  },
  {
   "cell_type": "code",
   "execution_count": 282,
   "id": "1931949d",
   "metadata": {
    "scrolled": false
   },
   "outputs": [
    {
     "name": "stdout",
     "output_type": "stream",
     "text": [
      "Training samples: 36\n",
      "Test samples:     12\n"
     ]
    }
   ],
   "source": [
    "# Use an 75/25 stratified split to preserve label proportions\n",
    "X_train, X_test, y_train, y_test = train_test_split(\n",
    "    X, y,\n",
    "    test_size=0.25,\n",
    "    random_state=1,\n",
    "    stratify=y\n",
    ")\n",
    "\n",
    "print(\"Training samples:\", X_train.shape[0])\n",
    "print(\"Test samples:    \", X_test.shape[0])\n"
   ]
  },
  {
   "cell_type": "markdown",
   "id": "1be35d98",
   "metadata": {},
   "source": [
    "# Chunk 5: 500 Resamples of the Training Dataset"
   ]
  },
  {
   "cell_type": "code",
   "execution_count": 283,
   "id": "c42973ba",
   "metadata": {},
   "outputs": [],
   "source": [
    "from sklearn.utils import resample\n",
    "X_resampled, y_resampled = resample(\n",
    "    X_train, y_train,\n",
    "    replace=True,      # sample with replacement\n",
    "    n_samples=500,    \n",
    "    random_state=0\n",
    ")"
   ]
  },
  {
   "cell_type": "markdown",
   "id": "13d7c9b8",
   "metadata": {},
   "source": [
    "# Chunk 6: Define & Fit Gradient Boosting Model "
   ]
  },
  {
   "cell_type": "code",
   "execution_count": 284,
   "id": "f78658fd",
   "metadata": {
    "scrolled": true
   },
   "outputs": [],
   "source": [
    "#Imports and Environment Setup, ensuring all of necessary imports are done if not in first cell\n",
    "import pandas as pd\n",
    "import numpy as np\n",
    "import re\n",
    "from sklearn.model_selection import train_test_split, StratifiedKFold, RandomizedSearchCV\n",
    "from sklearn.utils import resample\n",
    "from sklearn.metrics import classification_report, confusion_matrix, roc_auc_score, roc_curve\n",
    "import matplotlib.pyplot as plt\n",
    "\n",
    "# Define XGBClassifier, setting a range of hyperparameter options for: learning_rate, n_estimator, gamma\n",
    "try:\n",
    "    from xgboost import XGBClassifier\n",
    "    GBM = XGBClassifier(use_label_encoder=False, eval_metric='logloss', random_state=42)\n",
    "    param_dist = {\n",
    "        'learning_rate': [0.005, 0.01, 0.1, 0.2],\n",
    "        'n_estimators': [50, 100, 200],\n",
    "        'max_depth': [1, 3, 5]\n",
    "    }\n",
    "except ImportError:\n",
    "    from sklearn.ensemble import GradientBoostingClassifier\n",
    "    GBM = GradientBoostingClassifier(random_state=42)\n",
    "    param_dist = {\n",
    "        'learning_rate': [0.005, 0.01, 0.1, 0.2],\n",
    "        'n_estimators': [50, 100, 200],\n",
    "        'max_depth': [1, 3, 5]\n",
    "    }"
   ]
  },
  {
   "cell_type": "markdown",
   "id": "6bf5f099",
   "metadata": {},
   "source": [
    "# Chunk 7: Hyperparameter Tuning with RandomizedSearchCV"
   ]
  },
  {
   "cell_type": "code",
   "execution_count": 285,
   "id": "300fb273",
   "metadata": {
    "scrolled": true
   },
   "outputs": [
    {
     "data": {
      "text/html": [
       "<style>#sk-container-id-29 {color: black;}#sk-container-id-29 pre{padding: 0;}#sk-container-id-29 div.sk-toggleable {background-color: white;}#sk-container-id-29 label.sk-toggleable__label {cursor: pointer;display: block;width: 100%;margin-bottom: 0;padding: 0.3em;box-sizing: border-box;text-align: center;}#sk-container-id-29 label.sk-toggleable__label-arrow:before {content: \"▸\";float: left;margin-right: 0.25em;color: #696969;}#sk-container-id-29 label.sk-toggleable__label-arrow:hover:before {color: black;}#sk-container-id-29 div.sk-estimator:hover label.sk-toggleable__label-arrow:before {color: black;}#sk-container-id-29 div.sk-toggleable__content {max-height: 0;max-width: 0;overflow: hidden;text-align: left;background-color: #f0f8ff;}#sk-container-id-29 div.sk-toggleable__content pre {margin: 0.2em;color: black;border-radius: 0.25em;background-color: #f0f8ff;}#sk-container-id-29 input.sk-toggleable__control:checked~div.sk-toggleable__content {max-height: 200px;max-width: 100%;overflow: auto;}#sk-container-id-29 input.sk-toggleable__control:checked~label.sk-toggleable__label-arrow:before {content: \"▾\";}#sk-container-id-29 div.sk-estimator input.sk-toggleable__control:checked~label.sk-toggleable__label {background-color: #d4ebff;}#sk-container-id-29 div.sk-label input.sk-toggleable__control:checked~label.sk-toggleable__label {background-color: #d4ebff;}#sk-container-id-29 input.sk-hidden--visually {border: 0;clip: rect(1px 1px 1px 1px);clip: rect(1px, 1px, 1px, 1px);height: 1px;margin: -1px;overflow: hidden;padding: 0;position: absolute;width: 1px;}#sk-container-id-29 div.sk-estimator {font-family: monospace;background-color: #f0f8ff;border: 1px dotted black;border-radius: 0.25em;box-sizing: border-box;margin-bottom: 0.5em;}#sk-container-id-29 div.sk-estimator:hover {background-color: #d4ebff;}#sk-container-id-29 div.sk-parallel-item::after {content: \"\";width: 100%;border-bottom: 1px solid gray;flex-grow: 1;}#sk-container-id-29 div.sk-label:hover label.sk-toggleable__label {background-color: #d4ebff;}#sk-container-id-29 div.sk-serial::before {content: \"\";position: absolute;border-left: 1px solid gray;box-sizing: border-box;top: 0;bottom: 0;left: 50%;z-index: 0;}#sk-container-id-29 div.sk-serial {display: flex;flex-direction: column;align-items: center;background-color: white;padding-right: 0.2em;padding-left: 0.2em;position: relative;}#sk-container-id-29 div.sk-item {position: relative;z-index: 1;}#sk-container-id-29 div.sk-parallel {display: flex;align-items: stretch;justify-content: center;background-color: white;position: relative;}#sk-container-id-29 div.sk-item::before, #sk-container-id-29 div.sk-parallel-item::before {content: \"\";position: absolute;border-left: 1px solid gray;box-sizing: border-box;top: 0;bottom: 0;left: 50%;z-index: -1;}#sk-container-id-29 div.sk-parallel-item {display: flex;flex-direction: column;z-index: 1;position: relative;background-color: white;}#sk-container-id-29 div.sk-parallel-item:first-child::after {align-self: flex-end;width: 50%;}#sk-container-id-29 div.sk-parallel-item:last-child::after {align-self: flex-start;width: 50%;}#sk-container-id-29 div.sk-parallel-item:only-child::after {width: 0;}#sk-container-id-29 div.sk-dashed-wrapped {border: 1px dashed gray;margin: 0 0.4em 0.5em 0.4em;box-sizing: border-box;padding-bottom: 0.4em;background-color: white;}#sk-container-id-29 div.sk-label label {font-family: monospace;font-weight: bold;display: inline-block;line-height: 1.2em;}#sk-container-id-29 div.sk-label-container {text-align: center;}#sk-container-id-29 div.sk-container {/* jupyter's `normalize.less` sets `[hidden] { display: none; }` but bootstrap.min.css set `[hidden] { display: none !important; }` so we also need the `!important` here to be able to override the default hidden behavior on the sphinx rendered scikit-learn.org. See: https://github.com/scikit-learn/scikit-learn/issues/21755 */display: inline-block !important;position: relative;}#sk-container-id-29 div.sk-text-repr-fallback {display: none;}</style><div id=\"sk-container-id-29\" class=\"sk-top-container\"><div class=\"sk-text-repr-fallback\"><pre>GradientBoostingClassifier(learning_rate=0.2, max_depth=5, n_estimators=200,\n",
       "                           random_state=42)</pre><b>In a Jupyter environment, please rerun this cell to show the HTML representation or trust the notebook. <br />On GitHub, the HTML representation is unable to render, please try loading this page with nbviewer.org.</b></div><div class=\"sk-container\" hidden><div class=\"sk-item\"><div class=\"sk-estimator sk-toggleable\"><input class=\"sk-toggleable__control sk-hidden--visually\" id=\"sk-estimator-id-29\" type=\"checkbox\" checked><label for=\"sk-estimator-id-29\" class=\"sk-toggleable__label sk-toggleable__label-arrow\">GradientBoostingClassifier</label><div class=\"sk-toggleable__content\"><pre>GradientBoostingClassifier(learning_rate=0.2, max_depth=5, n_estimators=200,\n",
       "                           random_state=42)</pre></div></div></div></div></div>"
      ],
      "text/plain": [
       "GradientBoostingClassifier(learning_rate=0.2, max_depth=5, n_estimators=200,\n",
       "                           random_state=42)"
      ]
     },
     "execution_count": 285,
     "metadata": {},
     "output_type": "execute_result"
    }
   ],
   "source": [
    "cv = StratifiedKFold(n_splits=10, shuffle=True, random_state=42)\n",
    "search = RandomizedSearchCV(\n",
    "    GBM, param_distributions=param_dist, n_iter=20,\n",
    "    scoring='roc_auc', cv=cv, n_jobs=-1, random_state=42\n",
    ")\n",
    "search.fit(X_resampled, y_resampled)\n",
    "best_model = search.best_estimator_\n",
    "best_model"
   ]
  },
  {
   "cell_type": "markdown",
   "id": "732104c6",
   "metadata": {},
   "source": [
    "#  Chunk 7: Evaluate on Test Set Using Accuracy & Confussion Matrix"
   ]
  },
  {
   "cell_type": "code",
   "execution_count": 292,
   "id": "3cee8f5e",
   "metadata": {
    "scrolled": false
   },
   "outputs": [
    {
     "name": "stdout",
     "output_type": "stream",
     "text": [
      "Test Accuracy: 0.4166666666666667\n",
      "\n",
      "Confusion Matrix:\n",
      "[[0 4]\n",
      " [3 5]]\n",
      "\n",
      "Classification Report:\n",
      "              precision    recall  f1-score   support\n",
      "\n",
      "           0       0.00      0.00      0.00         4\n",
      "           1       0.56      0.62      0.59         8\n",
      "\n",
      "    accuracy                           0.42        12\n",
      "   macro avg       0.28      0.31      0.29        12\n",
      "weighted avg       0.37      0.42      0.39        12\n",
      "\n"
     ]
    }
   ],
   "source": [
    "y_pred = best_model.predict(X_test)\n",
    "\n",
    "print(\"Test Accuracy:\", accuracy_score(y_test, y_pred))\n",
    "print(\"\\nConfusion Matrix:\")\n",
    "print(confusion_matrix(y_test, y_pred))\n",
    "print(\"\\nClassification Report:\")\n",
    "print(classification_report(y_test, y_pred))\n"
   ]
  },
  {
   "cell_type": "markdown",
   "id": "3210420e",
   "metadata": {},
   "source": [
    "# Chunk 8: Visualization of Confusion Matrix"
   ]
  },
  {
   "cell_type": "code",
   "execution_count": 289,
   "id": "1c7c92ac",
   "metadata": {},
   "outputs": [
    {
     "data": {
      "image/png": "[encoded data removed]",
      "text/plain": [
       "<Figure size 400x400 with 1 Axes>"
      ]
     },
     "metadata": {},
     "output_type": "display_data"
    }
   ],
   "source": [
    "from sklearn.metrics import confusion_matrix, ConfusionMatrixDisplay\n",
    "import matplotlib.pyplot as plt\n",
    "\n",
    "# y_test, y_pred are your true/predicted labels\n",
    "cm = confusion_matrix(y_test, y_pred)\n",
    "\n",
    "disp = ConfusionMatrixDisplay(confusion_matrix=cm)\n",
    "fig, ax = plt.subplots(figsize=(4,4))\n",
    "disp.plot(ax=ax, cmap='Blues', colorbar=False)\n",
    "plt.title(\"Trial Difficulty= 6, Brain Region= PH, Phase= Probe\")\n",
    "plt.show()"
   ]
  },
  {
   "cell_type": "markdown",
   "id": "1605cecf",
   "metadata": {},
   "source": [
    "# Chunk 8: Visualize Feature Weights"
   ]
  },
  {
   "cell_type": "code",
   "execution_count": 115,
   "id": "de9b433a",
   "metadata": {},
   "outputs": [
    {
     "data": {
      "image/png": "[encoded data removed]",
      "text/plain": [
       "<Figure size 1000x400 with 1 Axes>"
      ]
     },
     "metadata": {},
     "output_type": "display_data"
    }
   ],
   "source": [
    "importances = best_model.feature_importances_\n",
    "\n",
    "plt.figure(figsize=(10, 4))\n",
    "plt.bar(range(len(importances)), importances)\n",
    "plt.xlabel(\"Feature index (neuron)\")\n",
    "plt.ylabel(\"Importance\")\n",
    "plt.title(\"Gradient Boosting Feature Importances of each Neuron Trial Difficulty = 6, Brain Region = Hippocampus, Phase = Probe\")\n",
    "plt.tight_layout()\n",
    "plt.show()\n"
   ]
  },
  {
   "cell_type": "code",
   "execution_count": null,
   "id": "347f965c",
   "metadata": {},
   "outputs": [],
   "source": []
  }
 ],
 "metadata": {
  "kernelspec": {
   "display_name": "Python 3 (ipykernel)",
   "language": "python",
   "name": "python3"
  },
  "language_info": {
   "codemirror_mode": {
    "name": "ipython",
    "version": 3
   },
   "file_extension": ".py",
   "mimetype": "text/x-python",
   "name": "python",
   "nbconvert_exporter": "python",
   "pygments_lexer": "ipython3",
   "version": "3.11.5"
  }
 },
 "nbformat": 4,
 "nbformat_minor": 5
}
