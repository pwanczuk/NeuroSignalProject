{
 "cells": [
  {
   "cell_type": "code",
   "execution_count": 24,
   "id": "219bf2f6",
   "metadata": {},
   "outputs": [],
   "source": [
    "# ─── Chunk 1: Imports and File Paths ───────────────────────────────────────────\n",
    "import pandas as pd\n",
    "import ast\n",
    "from sklearn.model_selection import train_test_split\n",
    "from sklearn.ensemble import GradientBoostingClassifier\n",
    "from sklearn.metrics import accuracy_score, confusion_matrix, classification_report\n",
    "import matplotlib.pyplot as plt\n",
    "\n",
    "# Adjust these paths if your CSVs live elsewhere\n",
    "path_ph6 = \"Patient1_Hippo_6.csv\"\n",
    "path_ph4 = \"Patient1_Hippo_4f.csv\"\n"
   ]
  },
  {
   "cell_type": "code",
   "execution_count": 25,
   "id": "64145e58",
   "metadata": {},
   "outputs": [],
   "source": [
    "# ─── Chunk 2: Load CSVs and Assign Labels ──────────────────────────────────────\n",
    "# Read each file into a DataFrame\n",
    "df4 = pd.read_csv(path_ph4)\n",
    "#df6 = pd.read_csv(path_ph6)\n",
    "\n",
    "# Create a “label” column: 4 for PH_4 trials, 6 for PH_6\n",
    "#df4['label'] = 4\n",
    "#df6['label'] = 6\n",
    "\n",
    "# Concatenate into one DataFrame for modeling\n",
    "df=df4\n",
    "#df = pd.concat([df4, df6], ignore_index=True)\n",
    "#print(f\"Total trials loaded: {len(df)}\")\n"
   ]
  },
  {
   "cell_type": "code",
   "execution_count": 26,
   "id": "12ee34f1",
   "metadata": {},
   "outputs": [
    {
     "name": "stdout",
     "output_type": "stream",
     "text": [
      "FR_neuron2[AHL2]                             [0.0, 0.0, 0.0, 0.0, 0.0]\n",
      "FR_neuron3[AHL2]     [0.0, 0.0, 11.111111111111128, 0.0, 11.1111111...\n",
      "FR_neuron4[AHL2]               [0.0, 0.0, 5.555555555555564, 0.0, 0.0]\n",
      "FR_neuron5[AHL2]                             [0.0, 0.0, 0.0, 0.0, 0.0]\n",
      "FR_neuron6[AHL2]               [0.0, 0.0, 5.555555555555564, 0.0, 0.0]\n",
      "FR_neuron7[AHL2]                             [0.0, 0.0, 0.0, 0.0, 0.0]\n",
      "FR_neuron8[AHL2]                             [0.0, 0.0, 0.0, 0.0, 0.0]\n",
      "FR_neuron9[AHL2]                             [0.0, 0.0, 0.0, 0.0, 0.0]\n",
      "FR_neuron10[AHL5]    [0.0, 0.0, 5.555555555555564, 5.55555555555556...\n",
      "FR_neuron11[AHL5]              [0.0, 0.0, 0.0, 5.555555555555564, 0.0]\n",
      "FR_neuron12[AHL5]                            [0.0, 0.0, 0.0, 0.0, 0.0]\n",
      "FR_neuron13[AHL5]              [0.0, 0.0, 5.555555555555564, 0.0, 0.0]\n",
      "FR_neuron14[AHL7]                            [0.0, 0.0, 0.0, 0.0, 0.0]\n",
      "FR_neuron15[AHL7]                            [0.0, 0.0, 0.0, 0.0, 0.0]\n",
      "FR_neuron16[AHL7]                            [0.0, 0.0, 0.0, 0.0, 0.0]\n",
      "FR_neuron17[AHL8]                            [0.0, 0.0, 0.0, 0.0, 0.0]\n",
      "FR_neuron18[AHL8]                            [0.0, 0.0, 0.0, 0.0, 0.0]\n",
      "FR_neuron19[AHL8]                            [0.0, 0.0, 0.0, 0.0, 0.0]\n",
      "FR_neuron20[AHL8]                            [0.0, 0.0, 0.0, 0.0, 0.0]\n",
      "FR_neuron21[AHR2]              [5.555555555555564, 0.0, 0.0, 0.0, 0.0]\n",
      "FR_neuron22[AHR6]                            [0.0, 0.0, 0.0, 0.0, 0.0]\n",
      "Name: 0, dtype: object\n"
     ]
    }
   ],
   "source": [
    "# ─── Chunk 3: Parse Firing‐Rate Lists ───────────────────────────────────────────\n",
    "# Identify all columns beginning with 'FR_neuron'\n",
    "fr_cols = [c for c in df.columns if c.startswith('FR_neuron')]\n",
    "\n",
    "# Each of these columns currently holds a string like \"[12.5, 20.0, …]\"\n",
    "# Convert each string into an actual Python list\n",
    "for col in fr_cols:\n",
    "    df[col] = df[col].apply(ast.literal_eval)\n",
    "\n",
    "# Quick sanity check\n",
    "print(df[fr_cols].iloc[0])\n"
   ]
  },
  {
   "cell_type": "code",
   "execution_count": 27,
   "id": "9b90e93b",
   "metadata": {
    "scrolled": true
   },
   "outputs": [
    {
     "name": "stdout",
     "output_type": "stream",
     "text": [
      "Feature matrix shape: (47, 105)\n"
     ]
    }
   ],
   "source": [
    "# ─── Chunk 4: Expand Each Bin into Its Own Feature ────────────────────────────\n",
    "expanded_dfs = []\n",
    "for col in fr_cols:\n",
    "    # Determine how many bins (should be 12)\n",
    "    n_bins = len(df[col].iloc[0])\n",
    "    # Generate column names: e.g. FR_neuron32_bin0 … FR_neuron32_bin11\n",
    "    bin_names = [f\"{col}_bin{i}\" for i in range(n_bins)]\n",
    "    # Expand the list‐of‐bins into a DataFrame\n",
    "    bins_df = pd.DataFrame(df[col].tolist(), columns=bin_names)\n",
    "    expanded_dfs.append(bins_df)\n",
    "\n",
    "# Concatenate all neurons’ bins side by side\n",
    "X = pd.concat(expanded_dfs, axis=1)\n",
    "y = df['acc_bin']\n",
    "\n",
    "print(\"Feature matrix shape:\", X.shape)"
   ]
  },
  {
   "cell_type": "code",
   "execution_count": 38,
   "id": "e02fca64",
   "metadata": {},
   "outputs": [
    {
     "name": "stdout",
     "output_type": "stream",
     "text": [
      "Resampled shapes: (200, 105) (200,)\n"
     ]
    }
   ],
   "source": [
    "from sklearn.utils import resample\n",
    "\n",
    "# X : (47, n_features) feature matrix  \n",
    "# y : (47,) label vector\n",
    "\n",
    "# draw 200 samples with replacement\n",
    "X_resampled, y_resampled = resample(\n",
    "    X, y,\n",
    "    replace=True,      # sample with replacement\n",
    "    n_samples=200,     # how many total samples you want\n",
    "    random_state=0\n",
    ")\n",
    "\n",
    "print(\"Resampled shapes:\", X_resampled.shape, y_resampled.shape)"
   ]
  },
  {
   "cell_type": "code",
   "execution_count": 23,
   "id": "3e441596",
   "metadata": {},
   "outputs": [
    {
     "ename": "AssertionError",
     "evalue": "Not every neuron column has the same bin count!",
     "output_type": "error",
     "traceback": [
      "\u001b[1;31m---------------------------------------------------------------------------\u001b[0m",
      "\u001b[1;31mAssertionError\u001b[0m                            Traceback (most recent call last)",
      "Cell \u001b[1;32mIn[23], line 3\u001b[0m\n\u001b[0;32m      1\u001b[0m neuron_cols \u001b[38;5;241m=\u001b[39m [c \u001b[38;5;28;01mfor\u001b[39;00m c \u001b[38;5;129;01min\u001b[39;00m df\u001b[38;5;241m.\u001b[39mcolumns \u001b[38;5;28;01mif\u001b[39;00m c\u001b[38;5;241m.\u001b[39mstartswith(\u001b[38;5;124m'\u001b[39m\u001b[38;5;124mFR_neuron\u001b[39m\u001b[38;5;124m'\u001b[39m)]\n\u001b[0;32m      2\u001b[0m n_bins \u001b[38;5;241m=\u001b[39m \u001b[38;5;28mlen\u001b[39m(df[neuron_cols[\u001b[38;5;241m0\u001b[39m]]\u001b[38;5;241m.\u001b[39miloc[\u001b[38;5;241m0\u001b[39m])\n\u001b[1;32m----> 3\u001b[0m \u001b[38;5;28;01massert\u001b[39;00m \u001b[38;5;28mall\u001b[39m(df[col]\u001b[38;5;241m.\u001b[39mmap(\u001b[38;5;28mlen\u001b[39m)\u001b[38;5;241m.\u001b[39meq(n_bins)\u001b[38;5;241m.\u001b[39mall() \u001b[38;5;28;01mfor\u001b[39;00m col \u001b[38;5;129;01min\u001b[39;00m neuron_cols), \\\n\u001b[0;32m      4\u001b[0m     \u001b[38;5;124m\"\u001b[39m\u001b[38;5;124mNot every neuron column has the same bin count!\u001b[39m\u001b[38;5;124m\"\u001b[39m\n",
      "\u001b[1;31mAssertionError\u001b[0m: Not every neuron column has the same bin count!"
     ]
    }
   ],
   "source": [
    "neuron_cols = [c for c in df.columns if c.startswith('FR_neuron')]\n",
    "n_bins = len(df[neuron_cols[0]].iloc[0])\n",
    "assert all(df[col].map(len).eq(n_bins).all() for col in neuron_cols), \\\n",
    "    \"Not every neuron column has the same bin count!\""
   ]
  },
  {
   "cell_type": "code",
   "execution_count": 42,
   "id": "db11eb9e",
   "metadata": {},
   "outputs": [
    {
     "data": {
      "text/plain": [
       "44    1\n",
       "0     0\n",
       "3     0\n",
       "3     0\n",
       "39    1\n",
       "     ..\n",
       "15    0\n",
       "11    0\n",
       "38    0\n",
       "29    1\n",
       "1     1\n",
       "Name: acc_bin, Length: 200, dtype: int64"
      ]
     },
     "execution_count": 42,
     "metadata": {},
     "output_type": "execute_result"
    }
   ],
   "source": [
    "y_resampled"
   ]
  },
  {
   "cell_type": "code",
   "execution_count": 47,
   "id": "1931949d",
   "metadata": {
    "scrolled": true
   },
   "outputs": [
    {
     "name": "stdout",
     "output_type": "stream",
     "text": [
      "Training samples: 37\n",
      "Test samples:     10\n"
     ]
    }
   ],
   "source": [
    "# ─── Chunk 5: Train/Test Split ─────────────────────────────────────────────────\n",
    "# Use an 80/20 stratified split to preserve label proportions\n",
    "X_train, X_test, y_train, y_test = train_test_split(\n",
    "    X, y,\n",
    "    test_size=0.2,\n",
    "    random_state=42,\n",
    "    stratify=y\n",
    ")\n",
    "\n",
    "print(\"Training samples:\", X_train.shape[0])\n",
    "print(\"Test samples:    \", X_test.shape[0])\n"
   ]
  },
  {
   "cell_type": "code",
   "execution_count": 48,
   "id": "9ede5ec9",
   "metadata": {},
   "outputs": [],
   "source": [
    "X_resampled, y_resampled = resample(\n",
    "    X_train, y_train,\n",
    "    replace=True,      # sample with replacement\n",
    "    n_samples=200,     # how many total samples you want\n",
    "    random_state=0\n",
    ")"
   ]
  },
  {
   "cell_type": "code",
   "execution_count": 49,
   "id": "f78658fd",
   "metadata": {
    "scrolled": true
   },
   "outputs": [],
   "source": [
    "# ─── Chunk 6: Fit Gradient Boosting Model ──────────────────────────────────────\n",
    "# In[1]: Imports and Environment Setup\n",
    "import pandas as pd\n",
    "import numpy as np\n",
    "import re\n",
    "from sklearn.model_selection import train_test_split, StratifiedKFold, RandomizedSearchCV\n",
    "from sklearn.utils import resample\n",
    "from sklearn.metrics import classification_report, confusion_matrix, roc_auc_score, roc_curve\n",
    "import matplotlib.pyplot as plt\n",
    "\n",
    "# Try XGBoost, fall back to scikit-learn GBM\n",
    "try:\n",
    "    from xgboost import XGBClassifier\n",
    "    GBM = XGBClassifier(use_label_encoder=False, eval_metric='logloss', random_state=42)\n",
    "    param_dist = {\n",
    "        'learning_rate': [0.01, 0.1, 0.2],\n",
    "        'n_estimators': [50, 100, 200],\n",
    "        'gamma': [0, 0.1, 0.5]\n",
    "    }\n",
    "except ImportError:\n",
    "    from sklearn.ensemble import GradientBoostingClassifier\n",
    "    GBM = GradientBoostingClassifier(random_state=42)\n",
    "    param_dist = {\n",
    "        'learning_rate': [0.01, 0.1, 0.2],\n",
    "        'n_estimators': [50, 100, 200],\n",
    "        'max_depth': [3, 5, 7]\n",
    "    }"
   ]
  },
  {
   "cell_type": "code",
   "execution_count": 50,
   "id": "31a65aa7",
   "metadata": {},
   "outputs": [],
   "source": [
    "# In[7]: Hyperparameter Tuning with RandomizedSearchCV\n",
    "cv = StratifiedKFold(n_splits=9, shuffle=True, random_state=42)\n",
    "search = RandomizedSearchCV(\n",
    "    GBM, param_distributions=param_dist, n_iter=20,\n",
    "    scoring='roc_auc', cv=cv, n_jobs=-1, random_state=42\n",
    ")\n",
    "search.fit(X_resampled, y_resampled)\n",
    "best_model = search.best_estimator_"
   ]
  },
  {
   "cell_type": "code",
   "execution_count": 51,
   "id": "3cee8f5e",
   "metadata": {},
   "outputs": [
    {
     "name": "stdout",
     "output_type": "stream",
     "text": [
      "Test Accuracy: 0.8\n",
      "\n",
      "Confusion Matrix:\n",
      "[[0 2]\n",
      " [0 8]]\n",
      "\n",
      "Classification Report:\n",
      "              precision    recall  f1-score   support\n",
      "\n",
      "           0       0.00      0.00      0.00         2\n",
      "           1       0.80      1.00      0.89         8\n",
      "\n",
      "    accuracy                           0.80        10\n",
      "   macro avg       0.40      0.50      0.44        10\n",
      "weighted avg       0.64      0.80      0.71        10\n",
      "\n"
     ]
    },
    {
     "name": "stderr",
     "output_type": "stream",
     "text": [
      "C:\\Users\\paulw\\anaconda3\\Lib\\site-packages\\sklearn\\metrics\\_classification.py:1469: UndefinedMetricWarning: Precision and F-score are ill-defined and being set to 0.0 in labels with no predicted samples. Use `zero_division` parameter to control this behavior.\n",
      "  _warn_prf(average, modifier, msg_start, len(result))\n",
      "C:\\Users\\paulw\\anaconda3\\Lib\\site-packages\\sklearn\\metrics\\_classification.py:1469: UndefinedMetricWarning: Precision and F-score are ill-defined and being set to 0.0 in labels with no predicted samples. Use `zero_division` parameter to control this behavior.\n",
      "  _warn_prf(average, modifier, msg_start, len(result))\n",
      "C:\\Users\\paulw\\anaconda3\\Lib\\site-packages\\sklearn\\metrics\\_classification.py:1469: UndefinedMetricWarning: Precision and F-score are ill-defined and being set to 0.0 in labels with no predicted samples. Use `zero_division` parameter to control this behavior.\n",
      "  _warn_prf(average, modifier, msg_start, len(result))\n"
     ]
    }
   ],
   "source": [
    "# ─── Chunk 7: Evaluate on Test Set ─────────────────────────────────────────────\n",
    "y_pred = best_model.predict(X_test)\n",
    "\n",
    "print(\"Test Accuracy:\", accuracy_score(y_test, y_pred))\n",
    "print(\"\\nConfusion Matrix:\")\n",
    "print(confusion_matrix(y_test, y_pred))\n",
    "print(\"\\nClassification Report:\")\n",
    "print(classification_report(y_test, y_pred))\n"
   ]
  },
  {
   "cell_type": "code",
   "execution_count": 52,
   "id": "de9b433a",
   "metadata": {},
   "outputs": [
    {
     "data": {
      "image/png": "[encoded data removed]",
      "text/plain": [
       "<Figure size 1000x400 with 1 Axes>"
      ]
     },
     "metadata": {},
     "output_type": "display_data"
    }
   ],
   "source": [
    "# ─── Chunk 8: Visualize Feature Importances ────────────────────────────────────\n",
    "importances = best_model.feature_importances_\n",
    "\n",
    "plt.figure(figsize=(10, 4))\n",
    "plt.bar(range(len(importances)), importances)\n",
    "plt.xlabel(\"Feature index (neuron_bin)\")\n",
    "plt.ylabel(\"Importance\")\n",
    "plt.title(\"Gradient Boosting Feature Importances\\n(each bar = one 400 ms bin of one neuron)\")\n",
    "plt.tight_layout()\n",
    "plt.show()\n"
   ]
  },
  {
   "cell_type": "code",
   "execution_count": null,
   "id": "6e463709",
   "metadata": {},
   "outputs": [],
   "source": []
  }
 ],
 "metadata": {
  "kernelspec": {
   "display_name": "Python 3 (ipykernel)",
   "language": "python",
   "name": "python3"
  },
  "language_info": {
   "codemirror_mode": {
    "name": "ipython",
    "version": 3
   },
   "file_extension": ".py",
   "mimetype": "text/x-python",
   "name": "python",
   "nbconvert_exporter": "python",
   "pygments_lexer": "ipython3",
   "version": "3.11.5"
  }
 },
 "nbformat": 4,
 "nbformat_minor": 5
}
